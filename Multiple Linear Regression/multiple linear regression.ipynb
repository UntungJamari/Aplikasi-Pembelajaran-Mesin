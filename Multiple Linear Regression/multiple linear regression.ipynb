{
 "cells": [
  {
   "cell_type": "code",
   "execution_count": 15,
   "id": "254ad4da",
   "metadata": {},
   "outputs": [
    {
     "data": {
      "text/html": [
       "<div>\n",
       "<style scoped>\n",
       "    .dataframe tbody tr th:only-of-type {\n",
       "        vertical-align: middle;\n",
       "    }\n",
       "\n",
       "    .dataframe tbody tr th {\n",
       "        vertical-align: top;\n",
       "    }\n",
       "\n",
       "    .dataframe thead th {\n",
       "        text-align: right;\n",
       "    }\n",
       "</style>\n",
       "<table border=\"1\" class=\"dataframe\">\n",
       "  <thead>\n",
       "    <tr style=\"text-align: right;\">\n",
       "      <th></th>\n",
       "      <th>year</th>\n",
       "      <th>Annual_mean</th>\n",
       "      <th>Lowess(5)</th>\n",
       "    </tr>\n",
       "  </thead>\n",
       "  <tbody>\n",
       "    <tr>\n",
       "      <th>0</th>\n",
       "      <td>1880</td>\n",
       "      <td>-0.16</td>\n",
       "      <td>-0.09</td>\n",
       "    </tr>\n",
       "    <tr>\n",
       "      <th>1</th>\n",
       "      <td>1881</td>\n",
       "      <td>-0.08</td>\n",
       "      <td>-0.13</td>\n",
       "    </tr>\n",
       "    <tr>\n",
       "      <th>2</th>\n",
       "      <td>1882</td>\n",
       "      <td>-0.11</td>\n",
       "      <td>-0.16</td>\n",
       "    </tr>\n",
       "    <tr>\n",
       "      <th>3</th>\n",
       "      <td>1883</td>\n",
       "      <td>-0.17</td>\n",
       "      <td>-0.20</td>\n",
       "    </tr>\n",
       "    <tr>\n",
       "      <th>4</th>\n",
       "      <td>1884</td>\n",
       "      <td>-0.28</td>\n",
       "      <td>-0.24</td>\n",
       "    </tr>\n",
       "  </tbody>\n",
       "</table>\n",
       "</div>"
      ],
      "text/plain": [
       "   year  Annual_mean  Lowess(5)\n",
       "0  1880        -0.16      -0.09\n",
       "1  1881        -0.08      -0.13\n",
       "2  1882        -0.11      -0.16\n",
       "3  1883        -0.17      -0.20\n",
       "4  1884        -0.28      -0.24"
      ]
     },
     "execution_count": 15,
     "metadata": {},
     "output_type": "execute_result"
    }
   ],
   "source": [
    "import pandas as pd\n",
    "import numpy as np\n",
    "import matplotlib.pyplot as plt\n",
    "import seaborn as sns\n",
    "\n",
    "dataset = pd.read_csv(\"NASA GLOBAL LAND-OCEAN TEMPERATURE INDEX.csv\")\n",
    "\n",
    "dataset.head()"
   ]
  },
  {
   "cell_type": "code",
   "execution_count": 34,
   "id": "12f1a7d4",
   "metadata": {},
   "outputs": [],
   "source": [
    "x = dataset.iloc[:, 0:1].values\n",
    "y = dataset[['Annual_mean', 'Lowess(5)']]"
   ]
  },
  {
   "cell_type": "code",
   "execution_count": 35,
   "id": "57d01027",
   "metadata": {},
   "outputs": [],
   "source": [
    "from sklearn.model_selection import train_test_split\n",
    "x_train, x_test, y_train, y_test = train_test_split(x, y, test_size = 0.3, random_state = 100)"
   ]
  },
  {
   "cell_type": "code",
   "execution_count": 36,
   "id": "84e1b8b5",
   "metadata": {},
   "outputs": [
    {
     "data": {
      "text/plain": [
       "LinearRegression()"
      ]
     },
     "execution_count": 36,
     "metadata": {},
     "output_type": "execute_result"
    }
   ],
   "source": [
    "from sklearn.linear_model import LinearRegression\n",
    "mlr = LinearRegression()\n",
    "mlr.fit(x_train, y_train)"
   ]
  },
  {
   "cell_type": "code",
   "execution_count": 37,
   "id": "4db40a72",
   "metadata": {},
   "outputs": [
    {
     "name": "stdout",
     "output_type": "stream",
     "text": [
      "Intercept:  [-14.63110852 -14.14953735]\n",
      "Coefficient:\n"
     ]
    },
    {
     "data": {
      "text/plain": [
       "[(array([1880], dtype=int64), array([0.00753695])),\n",
       " (array([1881], dtype=int64), array([0.00728599]))]"
      ]
     },
     "execution_count": 37,
     "metadata": {},
     "output_type": "execute_result"
    }
   ],
   "source": [
    "print(\"Intercept: \", mlr.intercept_)\n",
    "print(\"Coefficient:\")\n",
    "list(zip(x, mlr.coef_))"
   ]
  },
  {
   "cell_type": "code",
   "execution_count": 38,
   "id": "95b2610c",
   "metadata": {},
   "outputs": [
    {
     "name": "stdout",
     "output_type": "stream",
     "text": [
      "Prediction set: [[-1.14945572e-01 -1.16725813e-01]\n",
      " [ 4.57862519e-01  4.37009222e-01]\n",
      " [ 4.50325570e-01  4.29723234e-01]\n",
      " [ 4.05103879e-01  3.86007311e-01]\n",
      " [ 1.78995422e-01  1.67427692e-01]\n",
      " [ 3.59882188e-01  3.42291387e-01]\n",
      " [ 3.22197445e-01  3.05861450e-01]\n",
      " [ 3.07123548e-01  2.91289476e-01]\n",
      " [-1.82778110e-01 -1.82299699e-01]\n",
      " [ 6.01064542e-01  5.75442980e-01]\n",
      " [ 5.78453696e-01  5.53585019e-01]\n",
      " [ 5.64560473e-03 -1.50016286e-04]\n",
      " [-3.48590978e-01 -3.42591419e-01]\n",
      " [ 4.88010313e-01  4.66153171e-01]\n",
      " [ 3.82493033e-01  3.64149349e-01]\n",
      " [ 2.09143216e-01  1.96571641e-01]\n",
      " [ 4.80473365e-01  4.58867184e-01]\n",
      " [ 2.54364908e-01  2.40287565e-01]\n",
      " [-2.50610647e-01 -2.47873585e-01]\n",
      " [ 3.37271342e-01  3.20433425e-01]\n",
      " [ 5.84042447e-02  5.08518948e-02]\n",
      " [ 1.03625936e-01  9.45678186e-02]\n",
      " [ 5.10621159e-01  4.88011133e-01]\n",
      " [ 5.48305902e-01  5.24441069e-01]\n",
      " [-1.60167264e-01 -1.60441737e-01]\n",
      " [-3.78738772e-01 -3.71735369e-01]\n",
      " [ 3.90029982e-01  3.71435336e-01]\n",
      " [-2.43073698e-01 -2.40587597e-01]\n",
      " [ 1.26236782e-01  1.16425781e-01]\n",
      " [-2.65684544e-01 -2.62445559e-01]\n",
      " [-2.20462852e-01 -2.18729635e-01]\n",
      " [ 8.85520390e-02  7.99958440e-02]\n",
      " [-4.16423515e-01 -4.08165305e-01]\n",
      " [-2.73221492e-01 -2.69731546e-01]\n",
      " [-3.03369287e-01 -2.98875496e-01]\n",
      " [ 4.72936416e-01  4.51581196e-01]\n",
      " [-2.88295390e-01 -2.84303521e-01]\n",
      " [-1.97852007e-01 -1.96871673e-01]\n",
      " [ 2.01606268e-01  1.89285654e-01]\n",
      " [ 3.74956085e-01  3.56863361e-01]\n",
      " [ 2.61901856e-01  2.47573552e-01]\n",
      " [ 1.71458473e-01  1.60141704e-01]\n",
      " [ 6.59411933e-02  5.81378821e-02]]\n"
     ]
    }
   ],
   "source": [
    "y_pred_mlr= mlr.predict(x_test)\n",
    "print(\"Prediction set: {}\".format(y_pred_mlr))"
   ]
  },
  {
   "cell_type": "code",
   "execution_count": 33,
   "id": "87d9605f",
   "metadata": {},
   "outputs": [
    {
     "data": {
      "text/html": [
       "<div>\n",
       "<style scoped>\n",
       "    .dataframe tbody tr th:only-of-type {\n",
       "        vertical-align: middle;\n",
       "    }\n",
       "\n",
       "    .dataframe tbody tr th {\n",
       "        vertical-align: top;\n",
       "    }\n",
       "\n",
       "    .dataframe thead th {\n",
       "        text-align: right;\n",
       "    }\n",
       "</style>\n",
       "<table border=\"1\" class=\"dataframe\">\n",
       "  <thead>\n",
       "    <tr style=\"text-align: right;\">\n",
       "      <th></th>\n",
       "      <th>Actual value</th>\n",
       "      <th>Predicted value</th>\n",
       "    </tr>\n",
       "  </thead>\n",
       "  <tbody>\n",
       "    <tr>\n",
       "      <th>46</th>\n",
       "      <td>1926</td>\n",
       "      <td>1920.581726</td>\n",
       "    </tr>\n",
       "    <tr>\n",
       "      <th>122</th>\n",
       "      <td>2002</td>\n",
       "      <td>2002.258800</td>\n",
       "    </tr>\n",
       "    <tr>\n",
       "      <th>121</th>\n",
       "      <td>2001</td>\n",
       "      <td>1999.010371</td>\n",
       "    </tr>\n",
       "    <tr>\n",
       "      <th>115</th>\n",
       "      <td>1995</td>\n",
       "      <td>1982.911801</td>\n",
       "    </tr>\n",
       "    <tr>\n",
       "      <th>85</th>\n",
       "      <td>1965</td>\n",
       "      <td>1937.720945</td>\n",
       "    </tr>\n",
       "  </tbody>\n",
       "</table>\n",
       "</div>"
      ],
      "text/plain": [
       "     Actual value  Predicted value\n",
       "46           1926      1920.581726\n",
       "122          2002      2002.258800\n",
       "121          2001      1999.010371\n",
       "115          1995      1982.911801\n",
       "85           1965      1937.720945"
      ]
     },
     "execution_count": 33,
     "metadata": {},
     "output_type": "execute_result"
    }
   ],
   "source": [
    "mlr_diff = pd.DataFrame({'Actual value': y_test, 'Predicted value': y_pred_mlr})\n",
    "mlr_diff.head()"
   ]
  },
  {
   "cell_type": "code",
   "execution_count": 24,
   "id": "b4a9c07e",
   "metadata": {},
   "outputs": [
    {
     "name": "stdout",
     "output_type": "stream",
     "text": [
      "R squared: 77.85\n",
      "Mean Absolute Error: 0.14469540960463062\n",
      "Mean Square Error: 0.028256803074913628\n",
      "Root Mean Square Error: 0.16809759984875938\n"
     ]
    }
   ],
   "source": [
    "from sklearn import metrics\n",
    "meanAbErr = metrics.mean_absolute_error(y_test, y_pred_mlr)\n",
    "meanSqErr = metrics.mean_squared_error(y_test, y_pred_mlr)\n",
    "rootMeanSqErr = np.sqrt(metrics.mean_squared_error(y_test, y_pred_mlr))\n",
    "print('R squared: {:.2f}'.format(mlr.score(x,y)*100))\n",
    "print('Mean Absolute Error:', meanAbErr)\n",
    "print('Mean Square Error:', meanSqErr)\n",
    "print('Root Mean Square Error:', rootMeanSqErr)"
   ]
  },
  {
   "cell_type": "code",
   "execution_count": 25,
   "id": "31500907",
   "metadata": {},
   "outputs": [
    {
     "data": {
      "text/plain": [
       "Text(0.5, 1.0, 'Actual vc Predicted')"
      ]
     },
     "execution_count": 25,
     "metadata": {},
     "output_type": "execute_result"
    },
    {
     "data": {
      "image/png": "[encoded data removed]",
      "text/plain": [
       "<Figure size 1080x720 with 1 Axes>"
      ]
     },
     "metadata": {
      "needs_background": "light"
     },
     "output_type": "display_data"
    }
   ],
   "source": [
    "plt.figure(figsize=(15,10))\n",
    "plt.scatter(y_test,y_pred_mlr)\n",
    "plt.xlabel('Actual')\n",
    "plt.ylabel('Predicted')\n",
    "plt.title('Actual vc Predicted')"
   ]
  },
  {
   "cell_type": "code",
   "execution_count": null,
   "id": "22761cba",
   "metadata": {},
   "outputs": [],
   "source": []
  }
 ],
 "metadata": {
  "kernelspec": {
   "display_name": "Python 3",
   "language": "python",
   "name": "python3"
  },
  "language_info": {
   "codemirror_mode": {
    "name": "ipython",
    "version": 3
   },
   "file_extension": ".py",
   "mimetype": "text/x-python",
   "name": "python",
   "nbconvert_exporter": "python",
   "pygments_lexer": "ipython3",
   "version": "3.8.8"
  }
 },
 "nbformat": 4,
 "nbformat_minor": 5
}
