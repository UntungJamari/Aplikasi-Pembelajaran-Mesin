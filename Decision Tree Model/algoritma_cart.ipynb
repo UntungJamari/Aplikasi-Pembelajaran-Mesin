{
 "cells": [
  {
   "cell_type": "code",
   "execution_count": 1,
   "id": "e8fecd08",
   "metadata": {
    "execution": {
     "iopub.execute_input": "2022-02-06T16:30:44.082000Z",
     "iopub.status.busy": "2022-02-06T16:30:44.069180Z",
     "iopub.status.idle": "2022-02-06T16:30:44.907168Z",
     "shell.execute_reply": "2022-02-06T16:30:44.906620Z",
     "shell.execute_reply.started": "2022-01-05T06:23:47.817352Z"
    },
    "papermill": {
     "duration": 0.877042,
     "end_time": "2022-02-06T16:30:44.907317",
     "exception": false,
     "start_time": "2022-02-06T16:30:44.030275",
     "status": "completed"
    },
    "tags": []
   },
   "outputs": [],
   "source": [
    "import numpy as np\n",
    "import pandas as pd \n",
    "import matplotlib.pyplot as plt\n",
    "import seaborn  as sns"
   ]
  },
  {
   "cell_type": "code",
   "execution_count": 3,
   "id": "3c51ce46",
   "metadata": {
    "execution": {
     "iopub.execute_input": "2022-02-06T16:30:45.325592Z",
     "iopub.status.busy": "2022-02-06T16:30:45.324883Z",
     "iopub.status.idle": "2022-02-06T16:30:45.358088Z",
     "shell.execute_reply": "2022-02-06T16:30:45.358484Z",
     "shell.execute_reply.started": "2022-01-05T06:23:59.297567Z"
    },
    "papermill": {
     "duration": 0.092206,
     "end_time": "2022-02-06T16:30:45.358642",
     "exception": false,
     "start_time": "2022-02-06T16:30:45.266436",
     "status": "completed"
    },
    "tags": []
   },
   "outputs": [
    {
     "data": {
      "text/html": [
       "<div>\n",
       "<style scoped>\n",
       "    .dataframe tbody tr th:only-of-type {\n",
       "        vertical-align: middle;\n",
       "    }\n",
       "\n",
       "    .dataframe tbody tr th {\n",
       "        vertical-align: top;\n",
       "    }\n",
       "\n",
       "    .dataframe thead th {\n",
       "        text-align: right;\n",
       "    }\n",
       "</style>\n",
       "<table border=\"1\" class=\"dataframe\">\n",
       "  <thead>\n",
       "    <tr style=\"text-align: right;\">\n",
       "      <th></th>\n",
       "      <th>class</th>\n",
       "      <th>cap-shape</th>\n",
       "      <th>cap-surface</th>\n",
       "      <th>cap-color</th>\n",
       "      <th>bruises</th>\n",
       "      <th>odor</th>\n",
       "      <th>gill-attachment</th>\n",
       "      <th>gill-spacing</th>\n",
       "      <th>gill-size</th>\n",
       "      <th>gill-color</th>\n",
       "      <th>...</th>\n",
       "      <th>stalk-surface-below-ring</th>\n",
       "      <th>stalk-color-above-ring</th>\n",
       "      <th>stalk-color-below-ring</th>\n",
       "      <th>veil-type</th>\n",
       "      <th>veil-color</th>\n",
       "      <th>ring-number</th>\n",
       "      <th>ring-type</th>\n",
       "      <th>spore-print-color</th>\n",
       "      <th>population</th>\n",
       "      <th>habitat</th>\n",
       "    </tr>\n",
       "  </thead>\n",
       "  <tbody>\n",
       "    <tr>\n",
       "      <th>0</th>\n",
       "      <td>p</td>\n",
       "      <td>x</td>\n",
       "      <td>s</td>\n",
       "      <td>n</td>\n",
       "      <td>t</td>\n",
       "      <td>p</td>\n",
       "      <td>f</td>\n",
       "      <td>c</td>\n",
       "      <td>n</td>\n",
       "      <td>k</td>\n",
       "      <td>...</td>\n",
       "      <td>s</td>\n",
       "      <td>w</td>\n",
       "      <td>w</td>\n",
       "      <td>p</td>\n",
       "      <td>w</td>\n",
       "      <td>o</td>\n",
       "      <td>p</td>\n",
       "      <td>k</td>\n",
       "      <td>s</td>\n",
       "      <td>u</td>\n",
       "    </tr>\n",
       "    <tr>\n",
       "      <th>1</th>\n",
       "      <td>e</td>\n",
       "      <td>x</td>\n",
       "      <td>s</td>\n",
       "      <td>y</td>\n",
       "      <td>t</td>\n",
       "      <td>a</td>\n",
       "      <td>f</td>\n",
       "      <td>c</td>\n",
       "      <td>b</td>\n",
       "      <td>k</td>\n",
       "      <td>...</td>\n",
       "      <td>s</td>\n",
       "      <td>w</td>\n",
       "      <td>w</td>\n",
       "      <td>p</td>\n",
       "      <td>w</td>\n",
       "      <td>o</td>\n",
       "      <td>p</td>\n",
       "      <td>n</td>\n",
       "      <td>n</td>\n",
       "      <td>g</td>\n",
       "    </tr>\n",
       "    <tr>\n",
       "      <th>2</th>\n",
       "      <td>e</td>\n",
       "      <td>b</td>\n",
       "      <td>s</td>\n",
       "      <td>w</td>\n",
       "      <td>t</td>\n",
       "      <td>l</td>\n",
       "      <td>f</td>\n",
       "      <td>c</td>\n",
       "      <td>b</td>\n",
       "      <td>n</td>\n",
       "      <td>...</td>\n",
       "      <td>s</td>\n",
       "      <td>w</td>\n",
       "      <td>w</td>\n",
       "      <td>p</td>\n",
       "      <td>w</td>\n",
       "      <td>o</td>\n",
       "      <td>p</td>\n",
       "      <td>n</td>\n",
       "      <td>n</td>\n",
       "      <td>m</td>\n",
       "    </tr>\n",
       "    <tr>\n",
       "      <th>3</th>\n",
       "      <td>p</td>\n",
       "      <td>x</td>\n",
       "      <td>y</td>\n",
       "      <td>w</td>\n",
       "      <td>t</td>\n",
       "      <td>p</td>\n",
       "      <td>f</td>\n",
       "      <td>c</td>\n",
       "      <td>n</td>\n",
       "      <td>n</td>\n",
       "      <td>...</td>\n",
       "      <td>s</td>\n",
       "      <td>w</td>\n",
       "      <td>w</td>\n",
       "      <td>p</td>\n",
       "      <td>w</td>\n",
       "      <td>o</td>\n",
       "      <td>p</td>\n",
       "      <td>k</td>\n",
       "      <td>s</td>\n",
       "      <td>u</td>\n",
       "    </tr>\n",
       "    <tr>\n",
       "      <th>4</th>\n",
       "      <td>e</td>\n",
       "      <td>x</td>\n",
       "      <td>s</td>\n",
       "      <td>g</td>\n",
       "      <td>f</td>\n",
       "      <td>n</td>\n",
       "      <td>f</td>\n",
       "      <td>w</td>\n",
       "      <td>b</td>\n",
       "      <td>k</td>\n",
       "      <td>...</td>\n",
       "      <td>s</td>\n",
       "      <td>w</td>\n",
       "      <td>w</td>\n",
       "      <td>p</td>\n",
       "      <td>w</td>\n",
       "      <td>o</td>\n",
       "      <td>e</td>\n",
       "      <td>n</td>\n",
       "      <td>a</td>\n",
       "      <td>g</td>\n",
       "    </tr>\n",
       "  </tbody>\n",
       "</table>\n",
       "<p>5 rows × 23 columns</p>\n",
       "</div>"
      ],
      "text/plain": [
       "  class cap-shape cap-surface cap-color bruises odor gill-attachment  \\\n",
       "0     p         x           s         n       t    p               f   \n",
       "1     e         x           s         y       t    a               f   \n",
       "2     e         b           s         w       t    l               f   \n",
       "3     p         x           y         w       t    p               f   \n",
       "4     e         x           s         g       f    n               f   \n",
       "\n",
       "  gill-spacing gill-size gill-color  ... stalk-surface-below-ring  \\\n",
       "0            c         n          k  ...                        s   \n",
       "1            c         b          k  ...                        s   \n",
       "2            c         b          n  ...                        s   \n",
       "3            c         n          n  ...                        s   \n",
       "4            w         b          k  ...                        s   \n",
       "\n",
       "  stalk-color-above-ring stalk-color-below-ring veil-type veil-color  \\\n",
       "0                      w                      w         p          w   \n",
       "1                      w                      w         p          w   \n",
       "2                      w                      w         p          w   \n",
       "3                      w                      w         p          w   \n",
       "4                      w                      w         p          w   \n",
       "\n",
       "  ring-number ring-type spore-print-color population habitat  \n",
       "0           o         p                 k          s       u  \n",
       "1           o         p                 n          n       g  \n",
       "2           o         p                 n          n       m  \n",
       "3           o         p                 k          s       u  \n",
       "4           o         e                 n          a       g  \n",
       "\n",
       "[5 rows x 23 columns]"
      ]
     },
     "execution_count": 3,
     "metadata": {},
     "output_type": "execute_result"
    }
   ],
   "source": [
    "dataset = pd.read_csv(\"mushrooms.csv\")\n",
    "dataset.head()"
   ]
  },
  {
   "cell_type": "code",
   "execution_count": 9,
   "id": "8c5e9870",
   "metadata": {
    "execution": {
     "iopub.execute_input": "2022-02-06T16:30:46.727347Z",
     "iopub.status.busy": "2022-02-06T16:30:46.726735Z",
     "iopub.status.idle": "2022-02-06T16:30:46.732100Z",
     "shell.execute_reply": "2022-02-06T16:30:46.732558Z",
     "shell.execute_reply.started": "2021-08-26T18:24:15.744262Z"
    },
    "papermill": {
     "duration": 0.046006,
     "end_time": "2022-02-06T16:30:46.732725",
     "exception": false,
     "start_time": "2022-02-06T16:30:46.686719",
     "status": "completed"
    },
    "tags": []
   },
   "outputs": [],
   "source": [
    "X = dataset.drop(['class'],axis=1)\n",
    "y = dataset['class']"
   ]
  },
  {
   "cell_type": "code",
   "execution_count": 11,
   "id": "2c6fb8aa",
   "metadata": {
    "execution": {
     "iopub.execute_input": "2022-02-06T16:30:47.039063Z",
     "iopub.status.busy": "2022-02-06T16:30:47.038594Z",
     "iopub.status.idle": "2022-02-06T16:30:47.150635Z",
     "shell.execute_reply": "2022-02-06T16:30:47.149941Z",
     "shell.execute_reply.started": "2021-08-26T18:04:11.835927Z"
    },
    "papermill": {
     "duration": 0.153828,
     "end_time": "2022-02-06T16:30:47.150790",
     "exception": false,
     "start_time": "2022-02-06T16:30:46.996962",
     "status": "completed"
    },
    "tags": []
   },
   "outputs": [
    {
     "name": "stdout",
     "output_type": "stream",
     "text": [
      "[1 0 0 ... 0 1 0]\n"
     ]
    }
   ],
   "source": [
    "from sklearn.preprocessing import LabelEncoder\n",
    "\n",
    "encoder = LabelEncoder()\n",
    "y = encoder.fit_transform(y)\n",
    "print(y)"
   ]
  },
  {
   "cell_type": "code",
   "execution_count": 12,
   "id": "381b7264",
   "metadata": {
    "execution": {
     "iopub.execute_input": "2022-02-06T16:30:47.513374Z",
     "iopub.status.busy": "2022-02-06T16:30:47.512715Z",
     "iopub.status.idle": "2022-02-06T16:30:47.588620Z",
     "shell.execute_reply": "2022-02-06T16:30:47.588034Z",
     "shell.execute_reply.started": "2021-08-26T18:04:11.969441Z"
    },
    "papermill": {
     "duration": 0.139113,
     "end_time": "2022-02-06T16:30:47.588776",
     "exception": false,
     "start_time": "2022-02-06T16:30:47.449663",
     "status": "completed"
    },
    "tags": []
   },
   "outputs": [],
   "source": [
    "from sklearn.model_selection import train_test_split\n",
    "X_train, X_test, y_train, y_test = train_test_split(X, y, test_size=0.2, random_state=1)"
   ]
  },
  {
   "cell_type": "code",
   "execution_count": 15,
   "id": "a829bf7b",
   "metadata": {
    "execution": {
     "iopub.execute_input": "2022-02-06T16:30:48.098433Z",
     "iopub.status.busy": "2022-02-06T16:30:48.097749Z",
     "iopub.status.idle": "2022-02-06T16:30:48.254230Z",
     "shell.execute_reply": "2022-02-06T16:30:48.254784Z",
     "shell.execute_reply.started": "2021-08-26T18:04:12.057406Z"
    },
    "papermill": {
     "duration": 0.222526,
     "end_time": "2022-02-06T16:30:48.254976",
     "exception": false,
     "start_time": "2022-02-06T16:30:48.032450",
     "status": "completed"
    },
    "tags": []
   },
   "outputs": [],
   "source": [
    "from sklearn.tree import DecisionTreeClassifier\n",
    "from sklearn import tree\n",
    "from sklearn.metrics import accuracy_score"
   ]
  },
  {
   "cell_type": "code",
   "execution_count": 17,
   "id": "318735fb",
   "metadata": {
    "execution": {
     "iopub.execute_input": "2022-02-06T16:30:48.639173Z",
     "iopub.status.busy": "2022-02-06T16:30:48.638315Z",
     "iopub.status.idle": "2022-02-06T16:30:48.664209Z",
     "shell.execute_reply": "2022-02-06T16:30:48.663436Z",
     "shell.execute_reply.started": "2021-08-26T18:04:12.227702Z"
    },
    "papermill": {
     "duration": 0.096433,
     "end_time": "2022-02-06T16:30:48.664401",
     "exception": false,
     "start_time": "2022-02-06T16:30:48.567968",
     "status": "completed"
    },
    "tags": []
   },
   "outputs": [
    {
     "data": {
      "text/plain": [
       "DecisionTreeClassifier(max_depth=3, random_state=0)"
      ]
     },
     "execution_count": 17,
     "metadata": {},
     "output_type": "execute_result"
    }
   ],
   "source": [
    "clf_gini = DecisionTreeClassifier(criterion='gini', max_depth=3, random_state=0)\n",
    "\n",
    "clf_gini.fit(X_train, y_train)"
   ]
  },
  {
   "cell_type": "code",
   "execution_count": 18,
   "id": "4cd6ac72",
   "metadata": {
    "execution": {
     "iopub.execute_input": "2022-02-06T16:30:48.795688Z",
     "iopub.status.busy": "2022-02-06T16:30:48.794962Z",
     "iopub.status.idle": "2022-02-06T16:30:49.523882Z",
     "shell.execute_reply": "2022-02-06T16:30:49.523148Z",
     "shell.execute_reply.started": "2021-08-26T18:04:12.266231Z"
    },
    "papermill": {
     "duration": 0.797973,
     "end_time": "2022-02-06T16:30:49.524025",
     "exception": false,
     "start_time": "2022-02-06T16:30:48.726052",
     "status": "completed"
    },
    "tags": []
   },
   "outputs": [
    {
     "data": {
      "text/plain": [
       "[Text(386.3076923076923, 380.52, 'X[27] <= 0.5\\ngini = 0.499\\nsamples = 6499\\nvalue = [3388, 3111]'),\n",
       " Text(206.03076923076924, 271.8, 'X[53] <= 0.5\\ngini = 0.288\\nsamples = 3660\\nvalue = [637, 3023]'),\n",
       " Text(103.01538461538462, 163.07999999999998, 'X[55] <= 0.5\\ngini = 0.135\\nsamples = 3229\\nvalue = [236, 2993]'),\n",
       " Text(51.50769230769231, 54.360000000000014, 'gini = 0.055\\nsamples = 3080\\nvalue = [87, 2993]'),\n",
       " Text(154.52307692307693, 54.360000000000014, 'gini = 0.0\\nsamples = 149\\nvalue = [149, 0]'),\n",
       " Text(309.04615384615386, 163.07999999999998, 'X[94] <= 0.5\\ngini = 0.13\\nsamples = 431\\nvalue = [401, 30]'),\n",
       " Text(257.53846153846155, 54.360000000000014, 'gini = 0.0\\nsamples = 30\\nvalue = [0, 30]'),\n",
       " Text(360.55384615384617, 54.360000000000014, 'gini = 0.0\\nsamples = 401\\nvalue = [401, 0]'),\n",
       " Text(566.5846153846154, 271.8, 'X[100] <= 0.5\\ngini = 0.06\\nsamples = 2839\\nvalue = [2751, 88]'),\n",
       " Text(515.0769230769231, 163.07999999999998, 'X[63] <= 0.5\\ngini = 0.023\\nsamples = 2784\\nvalue = [2751, 33]'),\n",
       " Text(463.5692307692308, 54.360000000000014, 'gini = 0.002\\nsamples = 2740\\nvalue = [2737, 3]'),\n",
       " Text(566.5846153846154, 54.360000000000014, 'gini = 0.434\\nsamples = 44\\nvalue = [14, 30]'),\n",
       " Text(618.0923076923077, 163.07999999999998, 'gini = 0.0\\nsamples = 55\\nvalue = [0, 55]')]"
      ]
     },
     "execution_count": 18,
     "metadata": {},
     "output_type": "execute_result"
    },
    {
     "data": {
      "image/png": "[encoded data removed]",
      "text/plain": [
       "<Figure size 864x576 with 1 Axes>"
      ]
     },
     "metadata": {
      "needs_background": "light"
     },
     "output_type": "display_data"
    }
   ],
   "source": [
    "plt.figure(figsize=(12,8))\n",
    "\n",
    "tree.plot_tree(clf_gini.fit(X_train, y_train)) "
   ]
  },
  {
   "cell_type": "code",
   "execution_count": 20,
   "id": "29194048",
   "metadata": {
    "execution": {
     "iopub.execute_input": "2022-02-06T16:30:49.923279Z",
     "iopub.status.busy": "2022-02-06T16:30:49.922457Z",
     "iopub.status.idle": "2022-02-06T16:30:49.928986Z",
     "shell.execute_reply": "2022-02-06T16:30:49.928324Z",
     "shell.execute_reply.started": "2021-08-26T18:04:13.119189Z"
    },
    "papermill": {
     "duration": 0.077834,
     "end_time": "2022-02-06T16:30:49.929149",
     "exception": false,
     "start_time": "2022-02-06T16:30:49.851315",
     "status": "completed"
    },
    "tags": []
   },
   "outputs": [
    {
     "data": {
      "text/plain": [
       "array([0, 0, 1, ..., 1, 1, 1])"
      ]
     },
     "execution_count": 20,
     "metadata": {},
     "output_type": "execute_result"
    }
   ],
   "source": [
    "y_pred_gini = clf_gini.predict(X_test)\n",
    "y_pred_train_gini = clf_gini.predict(X_train)\n",
    "\n",
    "y_pred_train_gini"
   ]
  },
  {
   "cell_type": "code",
   "execution_count": 21,
   "id": "6cc363c2",
   "metadata": {
    "execution": {
     "iopub.execute_input": "2022-02-06T16:30:50.063488Z",
     "iopub.status.busy": "2022-02-06T16:30:50.062778Z",
     "iopub.status.idle": "2022-02-06T16:30:50.066982Z",
     "shell.execute_reply": "2022-02-06T16:30:50.066434Z",
     "shell.execute_reply.started": "2021-08-26T18:04:13.137559Z"
    },
    "papermill": {
     "duration": 0.074276,
     "end_time": "2022-02-06T16:30:50.067110",
     "exception": false,
     "start_time": "2022-02-06T16:30:49.992834",
     "status": "completed"
    },
    "tags": []
   },
   "outputs": [
    {
     "name": "stdout",
     "output_type": "stream",
     "text": [
      "Model accuracy score with criterion gini index: 0.9902\n",
      "Training-set accuracy score: 0.9840\n"
     ]
    }
   ],
   "source": [
    "print('Model accuracy score with criterion gini index: {0:0.4f}'. format(accuracy_score(y_test, y_pred_gini)))\n",
    "\n",
    "print('Training-set accuracy score: {0:0.4f}'. format(accuracy_score(y_train, y_pred_train_gini)))"
   ]
  },
  {
   "cell_type": "code",
   "execution_count": 28,
   "id": "9ac8be2f",
   "metadata": {
    "execution": {
     "iopub.execute_input": "2022-02-06T16:30:52.065745Z",
     "iopub.status.busy": "2022-02-06T16:30:52.065068Z",
     "iopub.status.idle": "2022-02-06T16:30:52.069011Z",
     "shell.execute_reply": "2022-02-06T16:30:52.069671Z",
     "shell.execute_reply.started": "2021-08-26T18:04:13.934131Z"
    },
    "papermill": {
     "duration": 0.075353,
     "end_time": "2022-02-06T16:30:52.069833",
     "exception": false,
     "start_time": "2022-02-06T16:30:51.994480",
     "status": "completed"
    },
    "tags": []
   },
   "outputs": [],
   "source": [
    "from sklearn.metrics import confusion_matrix\n",
    "from sklearn.metrics import classification_report\n",
    "from sklearn.metrics import  f1_score"
   ]
  },
  {
   "cell_type": "code",
   "execution_count": 29,
   "id": "dbea326a",
   "metadata": {
    "execution": {
     "iopub.execute_input": "2022-02-06T16:30:52.209257Z",
     "iopub.status.busy": "2022-02-06T16:30:52.208526Z",
     "iopub.status.idle": "2022-02-06T16:30:52.220172Z",
     "shell.execute_reply": "2022-02-06T16:30:52.220846Z",
     "shell.execute_reply.started": "2021-08-26T18:04:13.941543Z"
    },
    "papermill": {
     "duration": 0.083837,
     "end_time": "2022-02-06T16:30:52.221041",
     "exception": false,
     "start_time": "2022-02-06T16:30:52.137204",
     "status": "completed"
    },
    "scrolled": true,
    "tags": []
   },
   "outputs": [
    {
     "name": "stdout",
     "output_type": "stream",
     "text": [
      "Confusion matrix\n",
      "\n",
      " [[766  54]\n",
      " [  5 800]]\n"
     ]
    }
   ],
   "source": [
    "cm = confusion_matrix(y_test, y_pred_en)\n",
    "\n",
    "print('Confusion matrix\\n\\n', cm)"
   ]
  },
  {
   "cell_type": "code",
   "execution_count": 30,
   "id": "9a58f54c",
   "metadata": {
    "execution": {
     "iopub.execute_input": "2022-02-06T16:30:52.363262Z",
     "iopub.status.busy": "2022-02-06T16:30:52.362315Z",
     "iopub.status.idle": "2022-02-06T16:30:52.695756Z",
     "shell.execute_reply": "2022-02-06T16:30:52.696364Z",
     "shell.execute_reply.started": "2021-08-26T18:04:13.958474Z"
    },
    "papermill": {
     "duration": 0.406741,
     "end_time": "2022-02-06T16:30:52.696573",
     "exception": false,
     "start_time": "2022-02-06T16:30:52.289832",
     "status": "completed"
    },
    "tags": []
   },
   "outputs": [
    {
     "data": {
      "image/png": "[encoded data removed]",
      "text/plain": [
       "<Figure size 720x720 with 2 Axes>"
      ]
     },
     "metadata": {
      "needs_background": "light"
     },
     "output_type": "display_data"
    },
    {
     "data": {
      "text/plain": [
       "<Figure size 432x288 with 0 Axes>"
      ]
     },
     "metadata": {},
     "output_type": "display_data"
    }
   ],
   "source": [
    "f,ax = plt.subplots(figsize=(10, 10))\n",
    "sns.heatmap(cm, annot=True, linewidths=0.5,linecolor=\"red\", fmt= '.0f',ax=ax)\n",
    "plt.show()\n",
    "plt.savefig('ConfusionMatrix.png')"
   ]
  },
  {
   "cell_type": "code",
   "execution_count": 31,
   "id": "e7c3bc87",
   "metadata": {
    "execution": {
     "iopub.execute_input": "2022-02-06T16:30:52.840386Z",
     "iopub.status.busy": "2022-02-06T16:30:52.839644Z",
     "iopub.status.idle": "2022-02-06T16:30:52.849843Z",
     "shell.execute_reply": "2022-02-06T16:30:52.850273Z",
     "shell.execute_reply.started": "2021-08-26T18:04:14.210509Z"
    },
    "papermill": {
     "duration": 0.084414,
     "end_time": "2022-02-06T16:30:52.850430",
     "exception": false,
     "start_time": "2022-02-06T16:30:52.766016",
     "status": "completed"
    },
    "tags": []
   },
   "outputs": [
    {
     "name": "stdout",
     "output_type": "stream",
     "text": [
      "              precision    recall  f1-score   support\n",
      "\n",
      "           0       0.99      0.93      0.96       820\n",
      "           1       0.94      0.99      0.96       805\n",
      "\n",
      "    accuracy                           0.96      1625\n",
      "   macro avg       0.97      0.96      0.96      1625\n",
      "weighted avg       0.97      0.96      0.96      1625\n",
      "\n"
     ]
    }
   ],
   "source": [
    "print(classification_report(y_test, y_pred_en))"
   ]
  },
  {
   "cell_type": "code",
   "execution_count": 32,
   "id": "4cd76d68",
   "metadata": {
    "execution": {
     "iopub.execute_input": "2022-02-06T16:30:52.943778Z",
     "iopub.status.busy": "2022-02-06T16:30:52.943139Z",
     "iopub.status.idle": "2022-02-06T16:30:52.951000Z",
     "shell.execute_reply": "2022-02-06T16:30:52.951439Z",
     "shell.execute_reply.started": "2021-08-26T18:04:14.22584Z"
    },
    "papermill": {
     "duration": 0.056156,
     "end_time": "2022-02-06T16:30:52.951587",
     "exception": false,
     "start_time": "2022-02-06T16:30:52.895431",
     "status": "completed"
    },
    "tags": []
   },
   "outputs": [
    {
     "name": "stdout",
     "output_type": "stream",
     "text": [
      "F1 Score: 0.9644364074743822\n"
     ]
    }
   ],
   "source": [
    "f1_score = f1_score(y_test, y_pred_en)\n",
    "print(\"F1 Score:\",f1_score)"
   ]
  }
 ],
 "metadata": {
  "kernelspec": {
   "display_name": "Python 3",
   "language": "python",
   "name": "python3"
  },
  "language_info": {
   "codemirror_mode": {
    "name": "ipython",
    "version": 3
   },
   "file_extension": ".py",
   "mimetype": "text/x-python",
   "name": "python",
   "nbconvert_exporter": "python",
   "pygments_lexer": "ipython3",
   "version": "3.8.8"
  },
  "papermill": {
   "default_parameters": {},
   "duration": 17.58816,
   "end_time": "2022-02-06T16:30:54.088410",
   "environment_variables": {},
   "exception": null,
   "input_path": "__notebook__.ipynb",
   "output_path": "__notebook__.ipynb",
   "parameters": {},
   "start_time": "2022-02-06T16:30:36.500250",
   "version": "2.3.3"
  }
 },
 "nbformat": 4,
 "nbformat_minor": 5
}
